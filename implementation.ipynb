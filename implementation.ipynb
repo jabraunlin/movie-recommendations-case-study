{
 "cells": [
  {
   "cell_type": "code",
   "execution_count": 1,
   "metadata": {},
   "outputs": [],
   "source": [
    "import pyspark as ps\n",
    "import numpy as np\n",
    "import pandas as pd\n",
    "from pyspark.sql.types import *\n",
    "from pyspark.ml.recommendation import ALS\n",
    "from pyspark.sql import functions as F\n",
    "import matplotlib.pyplot as plt"
   ]
  },
  {
   "cell_type": "code",
   "execution_count": 2,
   "metadata": {},
   "outputs": [],
   "source": [
    "spark = (ps.sql.SparkSession\n",
    "         .builder\n",
    "         .master('local[8]')\n",
    "         .appName('casestudy')\n",
    "         .getOrCreate()\n",
    "        )\n",
    "sc = spark.sparkContext"
   ]
  },
  {
   "cell_type": "code",
   "execution_count": 3,
   "metadata": {
    "scrolled": true
   },
   "outputs": [],
   "source": [
    "test_schema=StructType( [\n",
    "   StructField('user',IntegerType(),True),\n",
    "   StructField('movie',IntegerType(),True),\n",
    "   StructField('rating',IntegerType(),True)] )"
   ]
  },
  {
   "cell_type": "code",
   "execution_count": 4,
   "metadata": {},
   "outputs": [],
   "source": [
    "rdd = spark.read.load('data/requests.csv', format='csv', header=True, schema=test_schema)"
   ]
  },
  {
   "cell_type": "code",
   "execution_count": 5,
   "metadata": {},
   "outputs": [
    {
     "name": "stdout",
     "output_type": "stream",
     "text": [
      "+----+-----+------+\n",
      "|user|movie|rating|\n",
      "+----+-----+------+\n",
      "|4958| 1924|  null|\n",
      "|4958| 3264|  null|\n",
      "|4958| 2634|  null|\n",
      "|4958| 1407|  null|\n",
      "|4958| 2399|  null|\n",
      "+----+-----+------+\n",
      "only showing top 5 rows\n",
      "\n"
     ]
    }
   ],
   "source": [
    "rdd.show(5)"
   ]
  },
  {
   "cell_type": "code",
   "execution_count": 6,
   "metadata": {},
   "outputs": [],
   "source": [
    "schema=StructType( [\n",
    "   StructField('user',IntegerType(),True),\n",
    "   StructField('movie',IntegerType(),True),\n",
    "   StructField('rating',IntegerType(),True),\n",
    "   StructField('tmstmp',IntegerType(),True),] )"
   ]
  },
  {
   "cell_type": "code",
   "execution_count": null,
   "metadata": {},
   "outputs": [],
   "source": []
  },
  {
   "cell_type": "code",
   "execution_count": 7,
   "metadata": {},
   "outputs": [],
   "source": [
    "train_rdd = spark.read.load('data/training.csv', format='csv', header=True, schema=schema)"
   ]
  },
  {
   "cell_type": "code",
   "execution_count": 8,
   "metadata": {},
   "outputs": [
    {
     "name": "stdout",
     "output_type": "stream",
     "text": [
      "+----+-----+------+---------+\n",
      "|user|movie|rating|   tmstmp|\n",
      "+----+-----+------+---------+\n",
      "|6040|  858|     4|956703932|\n",
      "|6040|  593|     5|956703954|\n",
      "|6040| 2384|     4|956703954|\n",
      "|6040| 1961|     4|956703977|\n",
      "|6040| 2019|     5|956703977|\n",
      "+----+-----+------+---------+\n",
      "only showing top 5 rows\n",
      "\n"
     ]
    }
   ],
   "source": [
    "train_rdd.show(5)"
   ]
  },
  {
   "cell_type": "code",
   "execution_count": 9,
   "metadata": {},
   "outputs": [],
   "source": [
    "train_rdd = train_rdd.select('user', 'movie', 'rating')"
   ]
  },
  {
   "cell_type": "code",
   "execution_count": 10,
   "metadata": {},
   "outputs": [
    {
     "name": "stdout",
     "output_type": "stream",
     "text": [
      "root\n",
      " |-- user: integer (nullable = true)\n",
      " |-- movie: integer (nullable = true)\n",
      " |-- rating: integer (nullable = true)\n",
      "\n"
     ]
    }
   ],
   "source": [
    "train_rdd.printSchema()"
   ]
  },
  {
   "cell_type": "code",
   "execution_count": 11,
   "metadata": {},
   "outputs": [],
   "source": [
    "mu = train_rdd.select('rating').groupby().mean().collect()[0][0]"
   ]
  },
  {
   "cell_type": "code",
   "execution_count": 12,
   "metadata": {},
   "outputs": [],
   "source": [
    "mean_rating = rdd.withColumn('rating', F.lit(mu))"
   ]
  },
  {
   "cell_type": "code",
   "execution_count": 13,
   "metadata": {},
   "outputs": [
    {
     "name": "stdout",
     "output_type": "stream",
     "text": [
      "+----+-----+----------+\n",
      "|user|movie|    rating|\n",
      "+----+-----+----------+\n",
      "|4958| 1924|3.59047875|\n",
      "|4958| 3264|3.59047875|\n",
      "|4958| 2634|3.59047875|\n",
      "|4958| 1407|3.59047875|\n",
      "|4958| 2399|3.59047875|\n",
      "+----+-----+----------+\n",
      "only showing top 5 rows\n",
      "\n"
     ]
    }
   ],
   "source": [
    "mean_rating.show(5)"
   ]
  },
  {
   "cell_type": "code",
   "execution_count": null,
   "metadata": {},
   "outputs": [],
   "source": []
  },
  {
   "cell_type": "code",
   "execution_count": 15,
   "metadata": {},
   "outputs": [],
   "source": [
    "train, test = train_rdd.randomSplit([0.8,0.2],seed=0)"
   ]
  },
  {
   "cell_type": "code",
   "execution_count": 16,
   "metadata": {},
   "outputs": [],
   "source": [
    "als_model = ALS(\n",
    "                itemCol = 'movie',\n",
    "                userCol = 'user',\n",
    "                ratingCol = 'rating',\n",
    "                nonnegative = True,\n",
    "                regParam = 0.1,\n",
    "                rank = 10)\n"
   ]
  },
  {
   "cell_type": "code",
   "execution_count": 17,
   "metadata": {},
   "outputs": [],
   "source": [
    "recommender = als_model.fit(train_rdd)"
   ]
  },
  {
   "cell_type": "code",
   "execution_count": 18,
   "metadata": {},
   "outputs": [],
   "source": [
    "train_preds = recommender.transform(train_rdd)"
   ]
  },
  {
   "cell_type": "code",
   "execution_count": 19,
   "metadata": {},
   "outputs": [],
   "source": [
    "test_preds = recommender.transform(rdd)"
   ]
  },
  {
   "cell_type": "code",
   "execution_count": 20,
   "metadata": {},
   "outputs": [
    {
     "name": "stdout",
     "output_type": "stream",
     "text": [
      "+----+-----+------+----------+\n",
      "|user|movie|rating|prediction|\n",
      "+----+-----+------+----------+\n",
      "| 673|  148|     5| 3.7936022|\n",
      "|4227|  148|     2| 1.9551136|\n",
      "|3184|  148|     4| 3.3017168|\n",
      "|4784|  148|     3| 2.8758423|\n",
      "|2383|  148|     2| 2.2598424|\n",
      "|1242|  148|     3|  2.824234|\n",
      "|3539|  148|     3| 2.7388778|\n",
      "|1069|  148|     2| 2.4736655|\n",
      "|1605|  148|     2| 2.2630243|\n",
      "|1150|  148|     2| 2.4687316|\n",
      "+----+-----+------+----------+\n",
      "only showing top 10 rows\n",
      "\n"
     ]
    }
   ],
   "source": [
    "train_preds.show(10)"
   ]
  },
  {
   "cell_type": "code",
   "execution_count": 21,
   "metadata": {},
   "outputs": [
    {
     "name": "stdout",
     "output_type": "stream",
     "text": [
      "+----+-----+------+----------+\n",
      "|user|movie|rating|prediction|\n",
      "+----+-----+------+----------+\n",
      "|  53|  148|  null|       NaN|\n",
      "|4169|  148|  null|  3.152981|\n",
      "|5333|  148|  null| 2.5163772|\n",
      "|4387|  148|  null| 2.3528926|\n",
      "| 840|  148|  null|   2.54237|\n",
      "| 216|  148|  null|       NaN|\n",
      "| 482|  148|  null|       NaN|\n",
      "| 752|  148|  null| 2.8853745|\n",
      "| 424|  148|  null|       NaN|\n",
      "| 970|  463|  null|  2.746033|\n",
      "+----+-----+------+----------+\n",
      "only showing top 10 rows\n",
      "\n"
     ]
    }
   ],
   "source": [
    "test_preds.show(10)"
   ]
  },
  {
   "cell_type": "code",
   "execution_count": 22,
   "metadata": {},
   "outputs": [
    {
     "name": "stdout",
     "output_type": "stream",
     "text": [
      "+-------+------------------+------------------+------+----------+\n",
      "|summary|              user|             movie|rating|prediction|\n",
      "+-------+------------------+------------------+------+----------+\n",
      "|  count|            200209|            200209|     0|    200209|\n",
      "|   mean|1511.7512249699064|1930.5866819173964|  null|       NaN|\n",
      "| stddev|1582.9305639554102|1129.6703496051032|  null|       NaN|\n",
      "|    min|                 1|                 1|  null|0.40971255|\n",
      "|    max|              6040|              3952|  null|       NaN|\n",
      "+-------+------------------+------------------+------+----------+\n",
      "\n"
     ]
    }
   ],
   "source": [
    "test_preds.describe().show()"
   ]
  },
  {
   "cell_type": "code",
   "execution_count": 25,
   "metadata": {},
   "outputs": [
    {
     "data": {
      "text/plain": [
       "pyspark.sql.dataframe.DataFrame"
      ]
     },
     "execution_count": 25,
     "metadata": {},
     "output_type": "execute_result"
    }
   ],
   "source": [
    "type(test_preds)"
   ]
  },
  {
   "cell_type": "code",
   "execution_count": 23,
   "metadata": {},
   "outputs": [],
   "source": [
    "pandas_preds = test_preds.toPandas()"
   ]
  },
  {
   "cell_type": "code",
   "execution_count": 30,
   "metadata": {},
   "outputs": [
    {
     "data": {
      "text/html": [
       "<div>\n",
       "<style scoped>\n",
       "    .dataframe tbody tr th:only-of-type {\n",
       "        vertical-align: middle;\n",
       "    }\n",
       "\n",
       "    .dataframe tbody tr th {\n",
       "        vertical-align: top;\n",
       "    }\n",
       "\n",
       "    .dataframe thead th {\n",
       "        text-align: right;\n",
       "    }\n",
       "</style>\n",
       "<table border=\"1\" class=\"dataframe\">\n",
       "  <thead>\n",
       "    <tr style=\"text-align: right;\">\n",
       "      <th></th>\n",
       "      <th>user</th>\n",
       "      <th>movie</th>\n",
       "      <th>rating</th>\n",
       "      <th>prediction</th>\n",
       "    </tr>\n",
       "  </thead>\n",
       "  <tbody>\n",
       "    <tr>\n",
       "      <th>0</th>\n",
       "      <td>53</td>\n",
       "      <td>148</td>\n",
       "      <td>None</td>\n",
       "      <td>NaN</td>\n",
       "    </tr>\n",
       "    <tr>\n",
       "      <th>1</th>\n",
       "      <td>4169</td>\n",
       "      <td>148</td>\n",
       "      <td>None</td>\n",
       "      <td>3.152981</td>\n",
       "    </tr>\n",
       "    <tr>\n",
       "      <th>2</th>\n",
       "      <td>5333</td>\n",
       "      <td>148</td>\n",
       "      <td>None</td>\n",
       "      <td>2.516377</td>\n",
       "    </tr>\n",
       "    <tr>\n",
       "      <th>3</th>\n",
       "      <td>4387</td>\n",
       "      <td>148</td>\n",
       "      <td>None</td>\n",
       "      <td>2.352893</td>\n",
       "    </tr>\n",
       "    <tr>\n",
       "      <th>4</th>\n",
       "      <td>840</td>\n",
       "      <td>148</td>\n",
       "      <td>None</td>\n",
       "      <td>2.542370</td>\n",
       "    </tr>\n",
       "  </tbody>\n",
       "</table>\n",
       "</div>"
      ],
      "text/plain": [
       "   user  movie rating  prediction\n",
       "0    53    148   None         NaN\n",
       "1  4169    148   None    3.152981\n",
       "2  5333    148   None    2.516377\n",
       "3  4387    148   None    2.352893\n",
       "4   840    148   None    2.542370"
      ]
     },
     "execution_count": 30,
     "metadata": {},
     "output_type": "execute_result"
    }
   ],
   "source": [
    "pandas_preds.head()"
   ]
  },
  {
   "cell_type": "code",
   "execution_count": 28,
   "metadata": {},
   "outputs": [
    {
     "name": "stderr",
     "output_type": "stream",
     "text": [
      "/Users/John/anaconda3/lib/python3.6/site-packages/ipykernel_launcher.py:1: ParserWarning: Falling back to the 'python' engine because the 'c' engine does not support regex separators (separators > 1 char and different from '\\s+' are interpreted as regex); you can avoid this warning by specifying engine='python'.\n",
      "  \"\"\"Entry point for launching an IPython kernel.\n",
      "/Users/John/anaconda3/lib/python3.6/site-packages/ipykernel_launcher.py:3: ParserWarning: Falling back to the 'python' engine because the 'c' engine does not support regex separators (separators > 1 char and different from '\\s+' are interpreted as regex); you can avoid this warning by specifying engine='python'.\n",
      "  This is separate from the ipykernel package so we can avoid doing imports until\n"
     ]
    }
   ],
   "source": [
    "df_users = pd.read_csv('data/users.dat',sep = '::',header=None)\n",
    "df_users.columns = ['userid','gender','Age','Occupation','Zip']\n",
    "df_movies = pd.read_csv('data/movies.dat',sep = '::',header=None)\n",
    "df_movies.columns = ['MovieID','Title','Genre']\n",
    "df_training = pd.read_csv('data/training.csv')\n",
    "with_movies = pd.merge(df_movies,df_training, how = 'inner',left_on = 'MovieID',right_on = 'movie')\n",
    "df_fin = pd.merge(with_movies,df_users, how = 'inner',left_on = 'user',right_on = 'userid')\n",
    "by_genre_user = df_fin.groupby(['Genre','user']).mean()['rating'].reset_index()\n",
    "df_requests = pd.read_csv('data/requests.csv')\n",
    "requests_with_movies = pd.merge(df_movies,df_requests, how = 'inner',left_on = 'MovieID',right_on = 'movie')\n",
    "requests_fin = pd.merge(requests_with_movies,df_users, how = 'inner',left_on = 'user',right_on = 'userid')\n",
    "first_rankings = pd.merge(requests_fin,by_genre_user, how = 'left',left_on = ['user','Genre'],right_on=['user','Genre'] )\n",
    "movie_ratings = df_fin.groupby('movie').mean()['rating'].reset_index()\n",
    "movie_ratings.columns = ['movie','movie_rating']\n",
    "second_rankings = pd.merge(first_rankings,movie_ratings, how = 'left',left_on = 'movie',right_on='movie' )\n",
    "second_rankings['rating']=second_rankings['rating'].fillna(second_rankings['movie_rating'])\n",
    "rules_ratings = second_rankings[['user','movie','rating']].fillna(0)"
   ]
  },
  {
   "cell_type": "code",
   "execution_count": 33,
   "metadata": {},
   "outputs": [
    {
     "data": {
      "text/html": [
       "<div>\n",
       "<style scoped>\n",
       "    .dataframe tbody tr th:only-of-type {\n",
       "        vertical-align: middle;\n",
       "    }\n",
       "\n",
       "    .dataframe tbody tr th {\n",
       "        vertical-align: top;\n",
       "    }\n",
       "\n",
       "    .dataframe thead th {\n",
       "        text-align: right;\n",
       "    }\n",
       "</style>\n",
       "<table border=\"1\" class=\"dataframe\">\n",
       "  <thead>\n",
       "    <tr style=\"text-align: right;\">\n",
       "      <th></th>\n",
       "      <th>user</th>\n",
       "      <th>movie1</th>\n",
       "      <th>rating1</th>\n",
       "    </tr>\n",
       "  </thead>\n",
       "  <tbody>\n",
       "    <tr>\n",
       "      <th>0</th>\n",
       "      <td>736</td>\n",
       "      <td>1</td>\n",
       "      <td>3.000000</td>\n",
       "    </tr>\n",
       "    <tr>\n",
       "      <th>1</th>\n",
       "      <td>736</td>\n",
       "      <td>6</td>\n",
       "      <td>3.871665</td>\n",
       "    </tr>\n",
       "    <tr>\n",
       "      <th>2</th>\n",
       "      <td>736</td>\n",
       "      <td>32</td>\n",
       "      <td>3.930732</td>\n",
       "    </tr>\n",
       "    <tr>\n",
       "      <th>3</th>\n",
       "      <td>736</td>\n",
       "      <td>47</td>\n",
       "      <td>4.500000</td>\n",
       "    </tr>\n",
       "    <tr>\n",
       "      <th>4</th>\n",
       "      <td>736</td>\n",
       "      <td>100</td>\n",
       "      <td>4.000000</td>\n",
       "    </tr>\n",
       "  </tbody>\n",
       "</table>\n",
       "</div>"
      ],
      "text/plain": [
       "   user  movie1   rating1\n",
       "0   736       1  3.000000\n",
       "1   736       6  3.871665\n",
       "2   736      32  3.930732\n",
       "3   736      47  4.500000\n",
       "4   736     100  4.000000"
      ]
     },
     "execution_count": 33,
     "metadata": {},
     "output_type": "execute_result"
    }
   ],
   "source": [
    "rules_ratings.columns = ['user', 'movie1', 'rating1']\n",
    "rules_ratings.head()"
   ]
  },
  {
   "cell_type": "code",
   "execution_count": 37,
   "metadata": {},
   "outputs": [],
   "source": [
    "final_pred = pd.merge(pandas_preds,rules_ratings, how = 'left',left_on = ['user','movie'],right_on=['user','movie1'])\n",
    "final_pred['prediction'] = final_pred['prediction'].fillna(final_pred['rating1'])\n",
    "final_pred['rating'] = final_pred['prediction']\n",
    "final_pred = final_pred[['user','movie', 'rating']]\n",
    "final_pred.to_csv('data/ensemble.csv')"
   ]
  },
  {
   "cell_type": "code",
   "execution_count": 48,
   "metadata": {},
   "outputs": [],
   "source": [
    "pandas_preds['squared_error'] = (pandas_preds['rating'] - pandas_preds['prediction'])**2"
   ]
  },
  {
   "cell_type": "code",
   "execution_count": 49,
   "metadata": {},
   "outputs": [
    {
     "data": {
      "text/plain": [
       "0.876564607720677"
      ]
     },
     "execution_count": 49,
     "metadata": {},
     "output_type": "execute_result"
    }
   ],
   "source": [
    "np.sqrt(sum(pandas_preds['squared_error']) / len(pandas_preds))"
   ]
  },
  {
   "cell_type": "code",
   "execution_count": 51,
   "metadata": {},
   "outputs": [
    {
     "name": "stderr",
     "output_type": "stream",
     "text": [
      "/Users/John/anaconda3/lib/python3.6/site-packages/numpy/core/fromnumeric.py:52: FutureWarning: reshape is deprecated and will raise in a subsequent release. Please use .values.reshape(...) instead\n",
      "  return getattr(obj, method)(*args, **kwds)\n"
     ]
    },
    {
     "data": {
      "image/png": "[encoded data removed]",
      "text/plain": [
       "<matplotlib.figure.Figure at 0x11045fba8>"
      ]
     },
     "metadata": {},
     "output_type": "display_data"
    }
   ],
   "source": [
    "data = [pandas_preds['prediction'][pandas_preds['rating'] == rating] for rating in range(1, 6)]\n",
    "plt.violinplot(data, range(1,6), showmeans=True)\n",
    "plt.xlabel('True Ratings')\n",
    "plt.ylabel('Predicted Ratings')\n",
    "plt.title('True vs. ALS Recommender Predicted Ratings')\n",
    "plt.show()"
   ]
  },
  {
   "cell_type": "code",
   "execution_count": null,
   "metadata": {},
   "outputs": [],
   "source": [
    "# fintest = recommender.transform(rdd)\n",
    "# pandas_fin = fintest.toPandas()\n",
    "# pandas_fin = pandas_fin.drop(columns='rating')\n",
    "# pandas_fin = pandas_fin.fillna(mu)\n",
    "# pandas_fin['rating'] = pandas_fin['prediction']\n",
    "# pandas_fin = pandas_fin.drop(columns='prediction')"
   ]
  },
  {
   "cell_type": "code",
   "execution_count": 43,
   "metadata": {},
   "outputs": [
    {
     "data": {
      "text/html": [
       "<div>\n",
       "<style scoped>\n",
       "    .dataframe tbody tr th:only-of-type {\n",
       "        vertical-align: middle;\n",
       "    }\n",
       "\n",
       "    .dataframe tbody tr th {\n",
       "        vertical-align: top;\n",
       "    }\n",
       "\n",
       "    .dataframe thead th {\n",
       "        text-align: right;\n",
       "    }\n",
       "</style>\n",
       "<table border=\"1\" class=\"dataframe\">\n",
       "  <thead>\n",
       "    <tr style=\"text-align: right;\">\n",
       "      <th></th>\n",
       "      <th>user</th>\n",
       "      <th>movie</th>\n",
       "    </tr>\n",
       "  </thead>\n",
       "  <tbody>\n",
       "    <tr>\n",
       "      <th>0</th>\n",
       "      <td>4958</td>\n",
       "      <td>1924</td>\n",
       "    </tr>\n",
       "    <tr>\n",
       "      <th>1</th>\n",
       "      <td>4958</td>\n",
       "      <td>3264</td>\n",
       "    </tr>\n",
       "    <tr>\n",
       "      <th>2</th>\n",
       "      <td>4958</td>\n",
       "      <td>2634</td>\n",
       "    </tr>\n",
       "    <tr>\n",
       "      <th>3</th>\n",
       "      <td>4958</td>\n",
       "      <td>1407</td>\n",
       "    </tr>\n",
       "    <tr>\n",
       "      <th>4</th>\n",
       "      <td>4958</td>\n",
       "      <td>2399</td>\n",
       "    </tr>\n",
       "  </tbody>\n",
       "</table>\n",
       "</div>"
      ],
      "text/plain": [
       "   user  movie\n",
       "0  4958   1924\n",
       "1  4958   3264\n",
       "2  4958   2634\n",
       "3  4958   1407\n",
       "4  4958   2399"
      ]
     },
     "execution_count": 43,
     "metadata": {},
     "output_type": "execute_result"
    }
   ],
   "source": [
    "requests = pd.read_csv('data/requests.csv')\n",
    "requests.head()"
   ]
  },
  {
   "cell_type": "code",
   "execution_count": 41,
   "metadata": {},
   "outputs": [],
   "source": [
    "final = pd.merge(requests, final_pred, how='left', left_on=['user','movie'],right_on=['user','movie'] )"
   ]
  },
  {
   "cell_type": "code",
   "execution_count": 44,
   "metadata": {},
   "outputs": [],
   "source": [
    "final.to_csv('data/ensemble1.csv')"
   ]
  },
  {
   "cell_type": "code",
   "execution_count": 45,
   "metadata": {},
   "outputs": [
    {
     "data": {
      "text/html": [
       "<div>\n",
       "<style scoped>\n",
       "    .dataframe tbody tr th:only-of-type {\n",
       "        vertical-align: middle;\n",
       "    }\n",
       "\n",
       "    .dataframe tbody tr th {\n",
       "        vertical-align: top;\n",
       "    }\n",
       "\n",
       "    .dataframe thead th {\n",
       "        text-align: right;\n",
       "    }\n",
       "</style>\n",
       "<table border=\"1\" class=\"dataframe\">\n",
       "  <thead>\n",
       "    <tr style=\"text-align: right;\">\n",
       "      <th></th>\n",
       "      <th>user</th>\n",
       "      <th>movie</th>\n",
       "      <th>rating</th>\n",
       "    </tr>\n",
       "  </thead>\n",
       "  <tbody>\n",
       "    <tr>\n",
       "      <th>0</th>\n",
       "      <td>53</td>\n",
       "      <td>148</td>\n",
       "      <td>2.785714</td>\n",
       "    </tr>\n",
       "    <tr>\n",
       "      <th>1</th>\n",
       "      <td>4169</td>\n",
       "      <td>148</td>\n",
       "      <td>3.152981</td>\n",
       "    </tr>\n",
       "    <tr>\n",
       "      <th>2</th>\n",
       "      <td>5333</td>\n",
       "      <td>148</td>\n",
       "      <td>2.516377</td>\n",
       "    </tr>\n",
       "    <tr>\n",
       "      <th>3</th>\n",
       "      <td>4387</td>\n",
       "      <td>148</td>\n",
       "      <td>2.352893</td>\n",
       "    </tr>\n",
       "    <tr>\n",
       "      <th>4</th>\n",
       "      <td>840</td>\n",
       "      <td>148</td>\n",
       "      <td>2.542370</td>\n",
       "    </tr>\n",
       "  </tbody>\n",
       "</table>\n",
       "</div>"
      ],
      "text/plain": [
       "   user  movie    rating\n",
       "0    53    148  2.785714\n",
       "1  4169    148  3.152981\n",
       "2  5333    148  2.516377\n",
       "3  4387    148  2.352893\n",
       "4   840    148  2.542370"
      ]
     },
     "execution_count": 45,
     "metadata": {},
     "output_type": "execute_result"
    }
   ],
   "source": [
    "final_pred.head()"
   ]
  },
  {
   "cell_type": "code",
   "execution_count": null,
   "metadata": {},
   "outputs": [],
   "source": []
  }
 ],
 "metadata": {
  "kernelspec": {
   "display_name": "Python 3",
   "language": "python",
   "name": "python3"
  },
  "language_info": {
   "codemirror_mode": {
    "name": "ipython",
    "version": 3
   },
   "file_extension": ".py",
   "mimetype": "text/x-python",
   "name": "python",
   "nbconvert_exporter": "python",
   "pygments_lexer": "ipython3",
   "version": "3.6.4"
  }
 },
 "nbformat": 4,
 "nbformat_minor": 2
}
